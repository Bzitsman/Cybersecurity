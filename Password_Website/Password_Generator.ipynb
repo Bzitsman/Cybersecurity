{
  "cells": [
    {
      "cell_type": "code",
      "execution_count": 2,
      "metadata": {
        "colab": {
          "base_uri": "https://localhost:8080/"
        },
        "id": "zqIhDGs6B6Mt",
        "outputId": "5ee32a1c-5d12-469a-ca7d-feb8efe58f06"
      },
      "outputs": [],
      "source": [
        "import random\n",
        "import string\n",
        "\n",
        "def generate_strong_password(length=12):\n",
        "    \"\"\"\n",
        "    Generate a strong password with a given length.\n",
        "\n",
        "    Parameters:\n",
        "    - length (int): Length of the password (default is 12)\n",
        "\n",
        "    Returns:\n",
        "    - str: Strong password\n",
        "    \"\"\"\n",
        "    # Define character sets for different types of characters\n",
        "    lowercase_letters = string.ascii_lowercase\n",
        "    uppercase_letters = string.ascii_uppercase\n",
        "    digits = string.digits\n",
        "    special_characters = string.punctuation\n",
        "\n",
        "    # Combine character sets\n",
        "    all_characters = lowercase_letters + uppercase_letters + digits + special_characters\n",
        "\n",
        "    # Ensure at least one character from each set is included\n",
        "    password = [\n",
        "        random.choice(lowercase_letters),\n",
        "        random.choice(uppercase_letters),\n",
        "        random.choice(digits),\n",
        "        random.choice(special_characters),\n",
        "    ]\n",
        "\n",
        "    # Generate remaining characters randomly\n",
        "    for _ in range(length - 4):\n",
        "        password.append(random.choice(all_characters))\n",
        "\n",
        "    # Shuffle the characters to make the password more secure\n",
        "    random.shuffle(password)\n",
        "\n",
        "    # Convert the list of characters to a string\n",
        "    strong_password = ''.join(password)\n",
        "\n",
        "    return strong_password\n"
      ]
    },
    {
      "cell_type": "code",
      "execution_count": 3,
      "metadata": {},
      "outputs": [
        {
          "name": "stdout",
          "output_type": "stream",
          "text": [
            "Generated Strong Password: :lr/#..Q:ee2\n"
          ]
        }
      ],
      "source": [
        "# Generate strong password\n",
        "password = generate_strong_password()\n",
        "print(\"Generated Strong Password:\", password)"
      ]
    },
    {
      "cell_type": "code",
      "execution_count": 4,
      "metadata": {},
      "outputs": [],
      "source": [
        "import string\n",
        "\n",
        "def password_strength_feedback(password):\n",
        "    \"\"\"\n",
        "    Provide feedback about a password's strength.\n",
        "\n",
        "    Parameters:\n",
        "    - password (str): Password to evaluate\n",
        "\n",
        "    Returns:\n",
        "    - str: Feedback message\n",
        "    \"\"\"\n",
        "    # Criteria for password strength\n",
        "    length_criteria = 8\n",
        "    uppercase_criteria = 1\n",
        "    lowercase_criteria = 1\n",
        "    digit_criteria = 1\n",
        "    special_character_criteria = 1\n",
        "\n",
        "    # Check length\n",
        "    if len(password) < length_criteria:\n",
        "        return \"Weak: Password should have at least {} characters.\".format(length_criteria)\n",
        "\n",
        "    # Check uppercase letters\n",
        "    if sum(1 for char in password if char in string.ascii_uppercase) < uppercase_criteria:\n",
        "        return \"Weak: Include at least {} uppercase letter(s) in the password.\".format(uppercase_criteria)\n",
        "\n",
        "    # Check lowercase letters\n",
        "    if sum(1 for char in password if char in string.ascii_lowercase) < lowercase_criteria:\n",
        "        return \"Weak: Include at least {} lowercase letter(s) in the password.\".format(lowercase_criteria)\n",
        "\n",
        "    # Check digits\n",
        "    if sum(1 for char in password if char in string.digits) < digit_criteria:\n",
        "        return \"Weak: Include at least {} digit(s) in the password.\".format(digit_criteria)\n",
        "\n",
        "    # Check special characters\n",
        "    if sum(1 for char in password if char in string.punctuation) < special_character_criteria:\n",
        "        return \"Weak: Include at least {} special character(s) in the password.\".format(special_character_criteria)\n",
        "\n",
        "    return \"Strong: Password meets the criteria for a strong password.\""
      ]
    },
    {
      "cell_type": "code",
      "execution_count": 5,
      "metadata": {},
      "outputs": [],
      "source": [
        "# Example usage\n",
        "user_password = input(\"Enter a password: \")\n",
        "feedback = password_strength_feedback(user_password)\n",
        "print(\"Password Strength:\", feedback)\n"
      ]
    },
    {
      "cell_type": "code",
      "execution_count": null,
      "metadata": {},
      "outputs": [],
      "source": [
        "import string\n",
        "\n",
        "def password_strength_feedback(password):\n",
        "    \"\"\"\n",
        "    Provide feedback about a password's strength.\n",
        "\n",
        "    Parameters:\n",
        "    - password (str): Password to evaluate\n",
        "\n",
        "    Returns:\n",
        "    - str: Feedback message\n",
        "    \"\"\"\n",
        "    # Criteria for password strength\n",
        "    length_criteria = 8\n",
        "    uppercase_criteria = 1\n",
        "    lowercase_criteria = 1\n",
        "    digit_criteria = 1\n",
        "    special_character_criteria = 1\n",
        "\n",
        "    # Check length\n",
        "    if len(password) < length_criteria:\n",
        "        return \"Weak: Password should have at least {} characters.\".format(length_criteria)\n",
        "\n",
        "    # Check uppercase letters\n",
        "    if sum(1 for char in password if char in string.ascii_uppercase) < uppercase_criteria:\n",
        "        return \"Weak: Include at least {} uppercase letter(s) in the password.\".format(uppercase_criteria)\n",
        "\n",
        "    # Check lowercase letters\n",
        "    if sum(1 for char in password if char in string.ascii_lowercase) < lowercase_criteria:\n",
        "        return \"Weak: Include at least {} lowercase letter(s) in the password.\".format(lowercase_criteria)\n",
        "\n",
        "    # Check digits\n",
        "    if sum(1 for char in password if char in string.digits) < digit_criteria:\n",
        "        return \"Weak: Include at least {} digit(s) in the password.\".format(digit_criteria)\n",
        "\n",
        "    # Check special characters\n",
        "    if sum(1 for char in password if char in string.punctuation) < special_character_criteria:\n",
        "        return \"Weak: Include at least {} special character(s) in the password.\".format(special_character_criteria)\n",
        "\n",
        "    return \"Strong: Password meets the criteria for a strong password.\"\n",
        "\n",
        "# Example usage\n",
        "user_password = input(\"Enter a password: \")\n",
        "feedback = password_strength_feedback(user_password)\n",
        "print(\"Password Strength:\", feedback)\n"
      ]
    }
  ],
  "metadata": {
    "colab": {
      "provenance": []
    },
    "kernelspec": {
      "display_name": "Python 3",
      "name": "python3"
    },
    "language_info": {
      "codemirror_mode": {
        "name": "ipython",
        "version": 3
      },
      "file_extension": ".py",
      "mimetype": "text/x-python",
      "name": "python",
      "nbconvert_exporter": "python",
      "pygments_lexer": "ipython3",
      "version": "3.10.5"
    }
  },
  "nbformat": 4,
  "nbformat_minor": 0
}
