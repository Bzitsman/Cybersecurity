{
  "cells": [
    {
      "cell_type": "markdown",
      "metadata": {
        "id": "view-in-github",
        "colab_type": "text"
      },
      "source": [
        "<a href=\"https://colab.research.google.com/github/Bzitsman/Cybersecurity/blob/main/Update_file_with_python_algorithm.ipynb\" target=\"_parent\"><img src=\"https://colab.research.google.com/assets/colab-badge.svg\" alt=\"Open In Colab\"/></a>"
      ]
    },
    {
      "cell_type": "markdown",
      "metadata": {
        "id": "4w9z0bsxsL4Y"
      },
      "source": [
        "# Update a file through a Python algorithm"
      ]
    },
    {
      "cell_type": "markdown",
      "metadata": {
        "id": "ivt8p77hCKcO"
      },
      "source": [
        "## Introduction\n",
        "\n",
        "An important part of cybersecurity is controlling access to restricted content. In this lab, you'll work with a text file containing IP addresses that are allowed to access specific restricted content at your organization.\n",
        "\n",
        "Parsing a file allows security analysts to read and update the contents. Python helps analysts develop algorithms to automate the process of parsing files and keeping them up-to-date.\n",
        "\n",
        "You'll develop an algorithm that parses this text file of IP addresses and updates the file by removing the addresses that no longer have access to the restricted content."
      ]
    },
    {
      "cell_type": "markdown",
      "metadata": {
        "id": "dQ2elTOeCMNv"
      },
      "source": [
        "## Scenario\n",
        "\n",
        "In this lab, you're working as a security analyst and you're responsible for developing an algorithm that parses a file containing IP addresses that are allowed to access restricted content and removes addresses that no longer have access."
      ]
    },
    {
      "cell_type": "markdown",
      "metadata": {
        "id": "dSywxrlbiuZE"
      },
      "source": [
        "## Task 1\n",
        "Your eventual goal is to develop an algorithm that parses a series of IP addresses that can access restricted information and removes the addresses that are no longer allowed. Python can automate this process.\n",
        "\n",
        "You're given a text file called `\"allow_list.txt\"` that contains a series of IP addresses that are allowed to access restricted information.\n",
        "\n",
        "_**Note**: The value of the import_file string is `\"allow_list.txt\"` in the activity, but in the exemplar, it is `\"data/allow_list.txt\"`. This is intentional. A unique copy of `\"allow_list.txt\"` has been moved to a new folder in the exemplar so that changes made to the file in the activity do not affect the file used in the exemplar._\n",
        "\n",
        "There are IP addresses that should no longer have access to this information, and their IP addresses need to be removed from the text file. You're given a variable named `remove_list` that contains the list of IP addresses to be removed.\n",
        "\n",
        "Display both variables to explore their contents, and run the cell. Be sure to replace each `### YOUR CODE HERE ###` with your own code before running the following cell."
      ]
    },
    {
      "cell_type": "code",
      "execution_count": 7,
      "metadata": {
        "id": "UwXb5CW1sSbp",
        "colab": {
          "base_uri": "https://localhost:8080/"
        },
        "outputId": "8fa91e9d-9847-4311-a557-3736d81156e2"
      },
      "outputs": [
        {
          "output_type": "stream",
          "name": "stdout",
          "text": [
            "/content/allow_list.txt\n",
            "['192.168.97.225', '192.168.158.170', '192.168.201.40', '192.168.58.57']\n"
          ]
        }
      ],
      "source": [
        "# Assign `import_file` to the name of the file\n",
        "\n",
        "import_file = \"/content/allow_list.txt\"\n",
        "\n",
        "# Assign `remove_list` to a list of IP addresses that are no longer allowed to access restricted information.\n",
        "\n",
        "remove_list = [\"192.168.97.225\", \"192.168.158.170\", \"192.168.201.40\", \"192.168.58.57\"]\n",
        "\n",
        "# Display `import_file`\n",
        "\n",
        "print(import_file)\n",
        "\n",
        "# Display `remove_list`\n",
        "\n",
        "print(remove_list)"
      ]
    },
    {
      "cell_type": "markdown",
      "metadata": {
        "id": "F5C4y6A8jWPj"
      },
      "source": [
        "#### **Question 1**\n",
        "**What do you observe about the output above?**\n"
      ]
    },
    {
      "cell_type": "markdown",
      "metadata": {
        "id": "jldD4mdikAJM"
      },
      "source": [
        "The first line of the output shows the name of the text file. The second line of the output shows the list of IP addresses from the `remove_list`."
      ]
    },
    {
      "cell_type": "markdown",
      "metadata": {
        "id": "2xDVHwsq2dN6"
      },
      "source": [
        "## Task 2\n",
        "In this task, start by opening the text file using the `import_file` variable, the `with` keyword, and the `open()` function with the `\"r\"` parameter. Be sure to replace the `### YOUR CODE HERE ###` with your own code.\n",
        "\n",
        "For now, you'll write the first line of the `with` statement. Running this code will produce an error because it will only contain the first line of the `with` statement; you'll complete this `with` statement in the task after this."
      ]
    },
    {
      "cell_type": "code",
      "execution_count": 8,
      "metadata": {
        "id": "W_OyqEQL0J4i",
        "colab": {
          "base_uri": "https://localhost:8080/",
          "height": 130
        },
        "outputId": "f0dfa76e-382f-4bc1-c739-74a975d0a5be"
      },
      "outputs": [
        {
          "output_type": "error",
          "ename": "SyntaxError",
          "evalue": "ignored",
          "traceback": [
            "\u001b[0;36m  File \u001b[0;32m\"<ipython-input-8-ffb7410c5300>\"\u001b[0;36m, line \u001b[0;32m11\u001b[0m\n\u001b[0;31m    with open(import_file, \"r\") as file:\u001b[0m\n\u001b[0m                                        ^\u001b[0m\n\u001b[0;31mSyntaxError\u001b[0m\u001b[0;31m:\u001b[0m incomplete input\n"
          ]
        }
      ],
      "source": [
        "# Assign `import_file` to the name of the file\n",
        "\n",
        "import_file = \"/content/allow_list.txt\"\n",
        "\n",
        "# Assign `remove_list` to a list of IP addresses that are no longer allowed to access restricted information.\n",
        "\n",
        "remove_list = [\"192.168.97.225\", \"192.168.158.170\", \"192.168.201.40\", \"192.168.58.57\"]\n",
        "\n",
        "# First line of `with` statement\n",
        "\n",
        "with open(import_file, \"r\") as file:"
      ]
    },
    {
      "cell_type": "markdown",
      "metadata": {
        "id": "0MpuZ_7Y3qHB"
      },
      "source": [
        "## Task 3\n",
        "Now, use the `.read()` method to read the imported file and store it in a variable named `ip_addresses`.\n",
        "\n",
        "Afterwards, display `ip_addresses` to examine the data in its current format.\n",
        "\n",
        "Be sure to replace each `### YOUR CODE HERE ###` with your own code before you run the following cell."
      ]
    },
    {
      "cell_type": "code",
      "execution_count": 9,
      "metadata": {
        "id": "KrsVQnLS4SnG",
        "colab": {
          "base_uri": "https://localhost:8080/"
        },
        "outputId": "2862139e-3b3c-488a-b2a0-aab69fd0c197"
      },
      "outputs": [
        {
          "output_type": "stream",
          "name": "stdout",
          "text": [
            "ip_address\n",
            "192.168.205.12\n",
            "192.168.6.9\n",
            "192.168.52.90\n",
            "192.168.186.176\n",
            "192.168.133.188\n",
            "192.168.203.198\n",
            "192.168.218.219\n",
            "192.168.52.37\n",
            "192.168.156.224\n",
            "192.168.69.116\n"
          ]
        }
      ],
      "source": [
        "# Assign `import_file` to the name of the file\n",
        "\n",
        "import_file = \"/content/allow_list.txt\"\n",
        "\n",
        "# Assign `remove_list` to a list of IP addresses that are no longer allowed to access restricted information.\n",
        "\n",
        "remove_list = [\"192.168.97.225\", \"192.168.158.170\", \"192.168.201.40\", \"192.168.58.57\"]\n",
        "\n",
        "# Build `with` statement to read in the initial contents of the file\n",
        "\n",
        "with open(import_file, \"r\") as file:\n",
        "\n",
        "  # Use `.read()` to read the imported file and store it in a variable named `ip_addresses`\n",
        "\n",
        "    ip_addresses = file.read()\n",
        "\n",
        "# Display `ip_addresses`\n",
        "\n",
        "print(ip_addresses)"
      ]
    },
    {
      "cell_type": "markdown",
      "metadata": {
        "id": "MrvKB19ltc6A"
      },
      "source": [
        "#### **Question 2**\n",
        "**Do you notice any IP addresses in the allow list that are also in the `remove_list`?**\n"
      ]
    },
    {
      "cell_type": "markdown",
      "metadata": {
        "id": "iEYKFGZttc6B"
      },
      "source": [
        "There are four IP addresses in the allow list that are also in the `remove_list`."
      ]
    },
    {
      "cell_type": "markdown",
      "metadata": {
        "id": "Iv06Y6Dv6CME"
      },
      "source": [
        "## Task 4\n",
        "After reading the file, reassign the `ip_addresses` variable so its data type is updated from a string to a list. Use the `.split()` method to achieve this. Adding this step will later allow you to remove individual IP addresses from the allow list.\n",
        "\n",
        "Afterwards, display the `ip_addresses` variable to verify that the update took place.\n",
        "\n",
        "Be sure to replace each `### YOUR CODE HERE ###` with your own code before you run the following cell."
      ]
    },
    {
      "cell_type": "code",
      "execution_count": 10,
      "metadata": {
        "id": "04FIIxkL6BRC",
        "colab": {
          "base_uri": "https://localhost:8080/"
        },
        "outputId": "8c30fde0-b20e-4f7b-d1ec-d8a47ba3cd0c"
      },
      "outputs": [
        {
          "output_type": "stream",
          "name": "stdout",
          "text": [
            "['ip_address', '192.168.205.12', '192.168.6.9', '192.168.52.90', '192.168.186.176', '192.168.133.188', '192.168.203.198', '192.168.218.219', '192.168.52.37', '192.168.156.224', '192.168.69.116']\n"
          ]
        }
      ],
      "source": [
        "# Assign `import_file` to the name of the file\n",
        "\n",
        "import_file = \"/content/allow_list.txt\"\n",
        "\n",
        "# Assign `remove_list` to a list of IP addresses that are no longer allowed to access restricted information.\n",
        "\n",
        "remove_list = [\"192.168.97.225\", \"192.168.158.170\", \"192.168.201.40\", \"192.168.58.57\"]\n",
        "\n",
        "# Build `with` statement to read in the initial contents of the file\n",
        "\n",
        "with open(import_file, \"r\") as file:\n",
        "\n",
        "  # Use `.read()` to read the imported file and store it in a variable named `ip_addresses`\n",
        "\n",
        "    ip_addresses = file.read()\n",
        "\n",
        "# Use `.split()` to convert `ip_addresses` from a string to a list\n",
        "\n",
        "ip_addresses = ip_addresses.split()\n",
        "\n",
        "# Display `ip_addresses`\n",
        "\n",
        "print(ip_addresses)"
      ]
    },
    {
      "cell_type": "markdown",
      "metadata": {
        "id": "083QDEoV-6ZP"
      },
      "source": [
        "## Task 5\n",
        "Now, you'll write code that removes the elements of `remove_list` from the `ip_addresses` list. This will require using an iterative statement.\n",
        "\n",
        "First, build the iterative statement. Name the loop variable `element`, loop through `remove_list`, and display each element. Be sure to replace each `### YOUR CODE HERE ###` with your own code before you run the following cell.\n"
      ]
    },
    {
      "cell_type": "code",
      "execution_count": 11,
      "metadata": {
        "id": "wmBNZ2pu_UMv",
        "colab": {
          "base_uri": "https://localhost:8080/"
        },
        "outputId": "83a7c104-393f-438c-c7d6-7953b97dba04"
      },
      "outputs": [
        {
          "output_type": "stream",
          "name": "stdout",
          "text": [
            "192.168.97.225\n",
            "192.168.158.170\n",
            "192.168.201.40\n",
            "192.168.58.57\n"
          ]
        }
      ],
      "source": [
        "# Assign `import_file` to the name of the file\n",
        "\n",
        "import_file = \"/content/allow_list.txt\"\n",
        "\n",
        "# Assign `remove_list` to a list of IP addresses that are no longer allowed to access restricted information.\n",
        "\n",
        "remove_list = [\"192.168.97.225\", \"192.168.158.170\", \"192.168.201.40\", \"192.168.58.57\"]\n",
        "\n",
        "# Build `with` statement to read in the initial contents of the file\n",
        "\n",
        "with open(import_file, \"r\") as file:\n",
        "\n",
        "  # Use `.read()` to read the imported file and store it in a variable named `ip_addresses`\n",
        "\n",
        "    ip_addresses = file.read()\n",
        "\n",
        "# Use `.split()` to convert `ip_addresses` from a string to a list\n",
        "\n",
        "ip_addresses = ip_addresses.split()\n",
        "\n",
        "# Build iterative statement\n",
        "# Name loop variable `element`\n",
        "# Loop through `remove_list`\n",
        "\n",
        "for element in remove_list:\n",
        "\n",
        "  # Display `element` in every iteration\n",
        "\n",
        "    print(element)"
      ]
    },
    {
      "cell_type": "markdown",
      "metadata": {
        "id": "BJ1SEHvrCHP5"
      },
      "source": [
        "## Task 6\n",
        "Next, in the body of the iterative statement, a conditional statement is used to evaluate if the loop variable `element` is part of the `ip_addresses` list. This is important to avoid the errors that would occur when using the `.remove()` method if an `element` was not part of the `ip_addresses` list.\n",
        "\n",
        "Then, within the conditional, apply the `.remove()` method to the `ip_addresses` list and remove the IP addresses identified in the loop variable `element`.\n",
        "\n",
        "After the iterative statement removes  the elements, display the updated `ip_addresses` list to verify that the elements of `remove_list` are no longer in the `ip_addresses`. Be sure to replace each `### YOUR CODE HERE ###` with your own code before you run the following cell.\n",
        "\n",
        "**Note:** There are not any duplicate values in the `ip_addresses` list. The `.remove()` method only removes the first occurrence of an element, so if there were duplicates, they would not be removed."
      ]
    },
    {
      "cell_type": "code",
      "execution_count": 12,
      "metadata": {
        "id": "AOp7hAdhDcpe",
        "colab": {
          "base_uri": "https://localhost:8080/"
        },
        "outputId": "aeaa86de-4ffe-44c9-c9fd-344e0d11a4b5"
      },
      "outputs": [
        {
          "output_type": "stream",
          "name": "stdout",
          "text": [
            "['ip_address', '192.168.205.12', '192.168.6.9', '192.168.52.90', '192.168.186.176', '192.168.133.188', '192.168.203.198', '192.168.218.219', '192.168.52.37', '192.168.156.224', '192.168.69.116']\n"
          ]
        }
      ],
      "source": [
        "# Assign `import_file` to the name of the file\n",
        "\n",
        "import_file = \"/content/allow_list.txt\"\n",
        "\n",
        "# Assign `remove_list` to a list of IP addresses that are no longer allowed to access restricted information.\n",
        "\n",
        "remove_list = ['192.168.97.225', '192.168.158.170', '192.168.201.40', '192.168.58.57']\n",
        "\n",
        "# Build `with` statement to read in the initial contents of the file\n",
        "\n",
        "with open(import_file, \"r\") as file:\n",
        "\n",
        "  # Use `.read()` to read the imported file and store it in a variable named `ip_addresses`\n",
        "\n",
        "    ip_addresses = file.read()\n",
        "\n",
        "# Use `.split()` to convert `ip_addresses` from a string to a list\n",
        "\n",
        "ip_addresses = ip_addresses.split()\n",
        "\n",
        "# Build iterative statement\n",
        "# Name loop variable `element`\n",
        "# Loop through `remove_list`\n",
        "\n",
        "for element in remove_list:\n",
        "\n",
        "  # Create conditional statement to evaluate if `element` is in `ip_addresses`\n",
        "\n",
        "    if element in ip_addresses:\n",
        "\n",
        "      # use the `.remove()` method to remove\n",
        "      # elements from `ip_addresses`\n",
        "\n",
        "        ip_addresses.remove(element)\n",
        "\n",
        "# Display `ip_addresses`\n",
        "\n",
        "print(ip_addresses)"
      ]
    },
    {
      "cell_type": "markdown",
      "metadata": {
        "id": "P-aJqrJlGBIR"
      },
      "source": [
        "## Task 7\n",
        "The next step is to update the original file that was used to create the `ip_addresses` list. A line of code containing the `.join()` method has been added to the code so that the file can be updated. This is necessary because `ip_addresses` must be in string format when used inside the `with` statement to rewrite the file.\n",
        "\n",
        "The `.join()` method takes in an iterable (such as a list) and concatenates every element of it into a string. The `.join()` method is applied to a string consisting of the character that will be used to separate every element in the iterable once its converted into a string. In the code below, the method is applied to the string `\"\\n\"`. The `\"\\n\"` character indicates to separate each element by placing it on a new line. The argument of the `.join()` method is the iterable you want to convert, and in this case, that's `ip_addresses`. As a result, it converts `ip_addresses` from a list back into a string with each IP address on a new line.\n",
        "\n",
        "After this line with the `.join()` method, build the `with` statement that rewrites the original file. Use the `\"w\"` parameter when calling the `open()` function to delete the contents in the original file and replace it with what you want to write. Be sure to replace each `### YOUR CODE HERE ###` with your own code before you run the following cell. This code cell will not produce an output."
      ]
    },
    {
      "cell_type": "code",
      "execution_count": 13,
      "metadata": {
        "id": "_9TMPL2sF6Rh"
      },
      "outputs": [],
      "source": [
        "# Assign `import_file` to the name of the file\n",
        "\n",
        "import_file = \"/content/allow_list.txt\"\n",
        "\n",
        "# Assign `remove_list` to a list of IP addresses that are no longer allowed to access restricted information.\n",
        "\n",
        "remove_list = [\"192.168.97.225\", \"192.168.158.170\", \"192.168.201.40\", \"192.168.58.57\"]\n",
        "\n",
        "# Build `with` statement to read in the initial contents of the file\n",
        "\n",
        "with open(import_file, \"r\") as file:\n",
        "\n",
        "  # Use `.read()` to read the imported file and store it in a variable named `ip_addresses`\n",
        "\n",
        "    ip_addresses = file.read()\n",
        "\n",
        "# Use `.split()` to convert `ip_addresses` from a string to a list\n",
        "\n",
        "ip_addresses = ip_addresses.split()\n",
        "\n",
        "# Build iterative statement\n",
        "# Name loop variable `element`\n",
        "# Loop through `remove_list`\n",
        "\n",
        "for element in remove_list:\n",
        "\n",
        "  # Create conditional statement to evaluate if `element` is in `ip_addresses`\n",
        "\n",
        "    if element in ip_addresses:\n",
        "\n",
        "      # use the `.remove()` method to remove\n",
        "      # elements from `ip_addresses`\n",
        "\n",
        "        ip_addresses.remove(element)\n",
        "\n",
        "# Convert `ip_addresses` back to a string so that it can be written into the text file\n",
        "\n",
        "ip_addresses = \"\\n\".join(ip_addresses)\n",
        "\n",
        "# Build `with` statement to rewrite the original file\n",
        "\n",
        "with open(import_file, \"w\") as file:\n",
        "\n",
        "  # Rewrite the file, replacing its contents with `ip_addresses`\n",
        "\n",
        "    file.write(ip_addresses)"
      ]
    },
    {
      "cell_type": "markdown",
      "metadata": {
        "id": "MB-6keBnstVU"
      },
      "source": [
        "## Task 8\n",
        "In this task, you'll verify that the original file was rewritten using the correct list.\n",
        "\n",
        "Write another `with` statement, this time to read in the updated file. Start by opening the file. Then read the file and store its contents in the `text` variable.\n",
        "\n",
        "Afterwards, display the `text` variable to examine the result.\n",
        "\n",
        "Be sure to replace each `### YOUR CODE HERE ###` with your own code before you run the following cell."
      ]
    },
    {
      "cell_type": "code",
      "execution_count": 14,
      "metadata": {
        "id": "I2DxVHWrJMgT",
        "colab": {
          "base_uri": "https://localhost:8080/"
        },
        "outputId": "322463cc-bebd-43d6-b97a-3d4714af47e7"
      },
      "outputs": [
        {
          "output_type": "stream",
          "name": "stdout",
          "text": [
            "ip_address\n",
            "192.168.205.12\n",
            "192.168.6.9\n",
            "192.168.52.90\n",
            "192.168.186.176\n",
            "192.168.133.188\n",
            "192.168.203.198\n",
            "192.168.218.219\n",
            "192.168.52.37\n",
            "192.168.156.224\n",
            "192.168.69.116\n"
          ]
        }
      ],
      "source": [
        "# Assign `import_file` to the name of the file\n",
        "\n",
        "import_file = \"/content/allow_list.txt\"\n",
        "\n",
        "# Assign `remove_list` to a list of IP addresses that are no longer allowed to access restricted information.\n",
        "\n",
        "remove_list = [\"192.168.97.225\", \"192.168.158.170\", \"192.168.201.40\", \"192.168.58.57\"]\n",
        "\n",
        "# Build `with` statement to read in the initial contents of the file\n",
        "\n",
        "with open(import_file, \"r\") as file:\n",
        "\n",
        "  # Use `.read()` to read the imported file and store it in a variable named `ip_addresses`\n",
        "\n",
        "    ip_addresses = file.read()\n",
        "\n",
        "# Use `.split()` to convert `ip_addresses` from a string to a list\n",
        "\n",
        "ip_addresses = ip_addresses.split()\n",
        "\n",
        "# Build iterative statement\n",
        "# Name loop variable `element`\n",
        "# Loop through `remove_list`\n",
        "\n",
        "for element in remove_list:\n",
        "\n",
        "  # Create conditional statement to evaluate if `element` is in `ip_addresses`\n",
        "\n",
        "    if element in ip_addresses:\n",
        "\n",
        "      # use the `.remove()` method to remove\n",
        "      # elements from `ip_addresses`\n",
        "\n",
        "        ip_addresses.remove(element)\n",
        "\n",
        "# Convert `ip_addresses` back to a string so that it can be written into the text file\n",
        "\n",
        "ip_addresses = \"\\n\".join(ip_addresses)\n",
        "\n",
        "# Build `with` statement to rewrite the original file\n",
        "\n",
        "with open(import_file, \"w\") as file:\n",
        "\n",
        "  # Rewrite the file, replacing its contents with `ip_addresses`\n",
        "\n",
        "    file.write(ip_addresses)\n",
        "\n",
        "# Build `with` statement to read in the updated file\n",
        "\n",
        "with open(import_file, \"r\") as file:\n",
        "\n",
        "  # Read in the updated file and store the contents in `text`\n",
        "\n",
        "    text = file.read()\n",
        "\n",
        "# Display the contents of `text`\n",
        "\n",
        "print(text)"
      ]
    },
    {
      "cell_type": "markdown",
      "metadata": {
        "id": "-yu-FhBctNP6"
      },
      "source": [
        "## Task 9\n",
        "The next step is to bring all of the code you've written leading up to this point and put it all into one function.\n",
        "\n",
        "Define a function named `update_file()` that takes in two parameters. The first parameter is the name of the text file that contains IP addresses (call this parameter `import_file`). The second parameter is a list that contains IP addresses to be removed (call this parameter `remove_list`).\n",
        "\n",
        "Be sure to replace the `### YOUR CODE HERE ###` with your own code before you run the following cell. Note that this code cell will not produce an output.\n",
        "\n"
      ]
    },
    {
      "cell_type": "code",
      "execution_count": 15,
      "metadata": {
        "id": "OXfjQ3bjK8_r"
      },
      "outputs": [],
      "source": [
        "# Define a function named `update_file` that takes in two parameters: `import_file` and `remove_list`\n",
        "# and combines the steps you've written in this lab leading up to this\n",
        "\n",
        "def update_file(import_file, remove_list):\n",
        "\n",
        "  # Build `with` statement to read in the initial contents of the file\n",
        "\n",
        "    with open(import_file, \"r\") as file:\n",
        "\n",
        "    # Use `.read()` to read the imported file and store it in a variable named `ip_addresses`\n",
        "\n",
        "        ip_addresses = file.read()\n",
        "\n",
        "  # Use `.split()` to convert `ip_addresses` from a string to a list\n",
        "\n",
        "    ip_addresses = ip_addresses.split()\n",
        "\n",
        "  # Build iterative statement\n",
        "  # Name loop variable `element`\n",
        "  # Loop through `remove_list`\n",
        "\n",
        "    for element in remove_list:\n",
        "\n",
        "      # Create conditional statement to evaluate if `element` is in `ip_addresses`\n",
        "\n",
        "        if element in ip_addresses:\n",
        "\n",
        "          # use the `.remove()` method to remove\n",
        "          # elements from `ip_addresses`\n",
        "\n",
        "            ip_addresses.remove(element)\n",
        "\n",
        "  # Convert `ip_addresses` back to a string so that it can be written into the text file\n",
        "\n",
        "    ip_addresses = \"\\n\".join(ip_addresses)\n",
        "\n",
        "  # Build `with` statement to rewrite the original file\n",
        "\n",
        "    with open(import_file, \"w\") as file:\n",
        "\n",
        "    # Rewrite the file, replacing its contents with `ip_addresses`\n",
        "\n",
        "        file.write(ip_addresses)"
      ]
    },
    {
      "cell_type": "markdown",
      "metadata": {
        "id": "cD0hgjRLuS98"
      },
      "source": [
        "#### **Question 3**\n",
        "**What are the benefits of incorporating the algorithm into a single function?**"
      ]
    },
    {
      "cell_type": "markdown",
      "metadata": {
        "id": "wwad4AR_uXLM"
      },
      "source": [
        "Incorporating the algorithm into a single function helps organize the code and make it reusable. If you want to execute the algorithm more than once, all you have to do is call the function that contains it."
      ]
    },
    {
      "cell_type": "markdown",
      "metadata": {
        "id": "O2H-OxNtOKh9"
      },
      "source": [
        "## Task 10\n",
        "Finally, call the `update_file()` that you defined. Apply the function to `\"allow_list.txt\"` and pass in a list of IP addresses as the second argument.\n",
        "\n",
        "_**Note**: The value of the file should be `\"allow_list.txt\"` in the activity, but in the exemplar, it is `\"data/allow_list.txt\"`. This is intentional. A unique copy of `\"allow_list.txt\"` has been moved to a new folder in the exemplar so that changes made to the file in the activity do not affect the file used in the exemplar._\n",
        "\n",
        "Use the following list of IP addresses as the second argument:\n",
        "\n",
        "`[\"192.168.25.60\", \"192.168.90.124\", \"192.168.60.153\"]`\n",
        "\n",
        "After the function call, use a `with` statement to read the contents of the allow list. Then display the contents of the allow list. Run it to verify that the file has been updated by the function.\n",
        "\n",
        "Be sure to replace the `### YOUR CODE HERE ###` with your own code before you run the following cell."
      ]
    },
    {
      "cell_type": "code",
      "execution_count": 17,
      "metadata": {
        "id": "O1FYsyooQAQv",
        "colab": {
          "base_uri": "https://localhost:8080/"
        },
        "outputId": "d4e6e99e-92d3-4111-9089-ed1d1fc50e78"
      },
      "outputs": [
        {
          "output_type": "stream",
          "name": "stdout",
          "text": [
            "ip_address\n",
            "192.168.205.12\n",
            "192.168.6.9\n",
            "192.168.52.90\n",
            "192.168.186.176\n",
            "192.168.133.188\n",
            "192.168.203.198\n",
            "192.168.218.219\n",
            "192.168.52.37\n",
            "192.168.156.224\n",
            "192.168.69.116\n"
          ]
        }
      ],
      "source": [
        "# Define a function named `update_file` that takes in two parameters: `import_file` and `remove_list`\n",
        "# and combines the steps you've written in this lab leading up to this\n",
        "\n",
        "def update_file(import_file, remove_list):\n",
        "\n",
        "  # Build `with` statement to read in the initial contents of the file\n",
        "\n",
        "    with open(import_file, \"r\") as file:\n",
        "\n",
        "    # Use `.read()` to read the imported file and store it in a variable named `ip_addresses`\n",
        "\n",
        "        ip_addresses = file.read()\n",
        "\n",
        "  # Use `.split()` to convert `ip_addresses` from a string to a list\n",
        "\n",
        "    ip_addresses = ip_addresses.split()\n",
        "\n",
        "  # Build iterative statement\n",
        "  # Name loop variable `element`\n",
        "  # Loop through `remove_list`\n",
        "\n",
        "    for element in remove_list:\n",
        "\n",
        "      # Create conditional statement to evaluate if `element` is in `ip_addresses`\n",
        "\n",
        "        if element in ip_addresses:\n",
        "\n",
        "          # use the `.remove()` method to remove\n",
        "          # elements from `ip_addresses`\n",
        "\n",
        "            ip_addresses.remove(element)\n",
        "\n",
        "  # Convert `ip_addresses` back to a string so that it can be written into the text file\n",
        "\n",
        "    ip_addresses = \"\\n\".join(ip_addresses)\n",
        "\n",
        "  # Build `with` statement to rewrite the original file\n",
        "\n",
        "    with open(import_file, \"w\") as file:\n",
        "\n",
        "    # Rewrite the file, replacing its contents with `ip_addresses`\n",
        "\n",
        "        file.write(ip_addresses)\n",
        "\n",
        "# Call `update_file()` and pass in \"allow_list.txt\" and a list of IP addresses to be removed\n",
        "\n",
        "update_file(\"/content/allow_list.txt\", [\"192.168.25.60\", \"192.168.90.124\", \"192.168.60.153\"])\n",
        "\n",
        "# Build `with` statement to read in the updated file\n",
        "\n",
        "with open(\"/content/allow_list.txt\", \"r\") as file:\n",
        "\n",
        "  # Read in the updated file and store the contents in `text`\n",
        "\n",
        "    text = file.read()\n",
        "\n",
        "# Display the contents of `text`\n",
        "\n",
        "print(text)"
      ]
    },
    {
      "cell_type": "markdown",
      "metadata": {
        "id": "ru2ytGBLCh4q"
      },
      "source": [
        "## Conclusion\n",
        "\n",
        "**What are your key takeaways from this lab?**"
      ]
    },
    {
      "cell_type": "markdown",
      "metadata": {
        "id": "hxh9FImwbcF9"
      },
      "source": [
        "- Python has functions and syntax that help you import and parse text files.\n",
        "  - The `with` statement allows you to efficiently handle files.\n",
        "  - The `open()` function allows you to import or open a file. It takes in the name of the file as the first parameter and a string that indicates the purpose of opening the file as the second parameter.\n",
        "    - Specify `\"r\"` as the second parameter if you're opening the file for reading purposes.\n",
        "    - Specify `\"w\"` as the second parameter if you're opening the file for writing purposes.\n",
        "  - The `.read()` method allows you to read in a file.\n",
        "  - The `.write()` method allows you to append or write to a file.\n",
        "- You can use the `.split()` method to convert a string to a list.\n",
        "- You can use a `for` loop to iterate over a list.\n",
        "- You can use a conditional to evaluate if a variable is part of a list.\n",
        "- You can use Python to compare contents of a text file against elements of a list.\n",
        "- Algorithms can be incorporated into functions. When defining a function, you must specify the parameters it takes in and the actions it should execute."
      ]
    }
  ],
  "metadata": {
    "colab": {
      "provenance": [],
      "include_colab_link": true
    },
    "kernelspec": {
      "display_name": "Python 3",
      "language": "python",
      "name": "python3"
    },
    "language_info": {
      "codemirror_mode": {
        "name": "ipython",
        "version": 3
      },
      "file_extension": ".py",
      "mimetype": "text/x-python",
      "name": "python",
      "nbconvert_exporter": "python",
      "pygments_lexer": "ipython3",
      "version": "3.7.6"
    }
  },
  "nbformat": 4,
  "nbformat_minor": 0
}