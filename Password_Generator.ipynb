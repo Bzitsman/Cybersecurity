{
  "nbformat": 4,
  "nbformat_minor": 0,
  "metadata": {
    "colab": {
      "provenance": [],
      "authorship_tag": "ABX9TyMheIciQClXgCpkr0Z+wMtu",
      "include_colab_link": true
    },
    "kernelspec": {
      "name": "python3",
      "display_name": "Python 3"
    },
    "language_info": {
      "name": "python"
    }
  },
  "cells": [
    {
      "cell_type": "markdown",
      "metadata": {
        "id": "view-in-github",
        "colab_type": "text"
      },
      "source": [
        "<a href=\"https://colab.research.google.com/github/Bzitsman/Cybersecurity/blob/main/Password_Generator.ipynb\" target=\"_parent\"><img src=\"https://colab.research.google.com/assets/colab-badge.svg\" alt=\"Open In Colab\"/></a>"
      ]
    },
    {
      "cell_type": "code",
      "execution_count": null,
      "metadata": {
        "colab": {
          "base_uri": "https://localhost:8080/"
        },
        "id": "zqIhDGs6B6Mt",
        "outputId": "5ee32a1c-5d12-469a-ca7d-feb8efe58f06"
      },
      "outputs": [
        {
          "output_type": "stream",
          "name": "stdout",
          "text": [
            "Generated Strong Password: kvA!4x6mP4-B\n"
          ]
        }
      ],
      "source": [
        "import random\n",
        "import string\n",
        "\n",
        "def generate_strong_password(length=12):\n",
        "    \"\"\"\n",
        "    Generate a strong password with a given length.\n",
        "\n",
        "    Parameters:\n",
        "    - length (int): Length of the password (default is 12)\n",
        "\n",
        "    Returns:\n",
        "    - str: Strong password\n",
        "    \"\"\"\n",
        "    # Define character sets for different types of characters\n",
        "    lowercase_letters = string.ascii_lowercase\n",
        "    uppercase_letters = string.ascii_uppercase\n",
        "    digits = string.digits\n",
        "    special_characters = string.punctuation\n",
        "\n",
        "    # Combine character sets\n",
        "    all_characters = lowercase_letters + uppercase_letters + digits + special_characters\n",
        "\n",
        "    # Ensure at least one character from each set is included\n",
        "    password = [\n",
        "        random.choice(lowercase_letters),\n",
        "        random.choice(uppercase_letters),\n",
        "        random.choice(digits),\n",
        "        random.choice(special_characters),\n",
        "    ]\n",
        "\n",
        "    # Generate remaining characters randomly\n",
        "    for _ in range(length - 4):\n",
        "        password.append(random.choice(all_characters))\n",
        "\n",
        "    # Shuffle the characters to make the password more secure\n",
        "    random.shuffle(password)\n",
        "\n",
        "    # Convert the list of characters to a string\n",
        "    strong_password = ''.join(password)\n",
        "\n",
        "    return strong_password\n",
        "\n",
        "# Generate strong password\n",
        "password = generate_strong_password()\n",
        "print(\"Generated Strong Password:\", password)"
      ]
    }
  ]
}